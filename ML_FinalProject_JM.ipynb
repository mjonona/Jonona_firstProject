{
 "cells": [
  {
   "cell_type": "markdown",
   "id": "0ae11ab2-97d1-4af7-9b87-929b58396f4b",
   "metadata": {},
   "source": [
    "# Шаг 1: Загрузка и первичный анализ данных\n"
   ]
  },
  {
   "cell_type": "code",
   "execution_count": null,
   "id": "ae51c8c6-e9d9-4e17-a153-6d125b906d64",
   "metadata": {},
   "outputs": [],
   "source": [
    "1.1 Cкачайте датасет"
   ]
  },
  {
   "cell_type": "code",
   "execution_count": 1,
   "id": "9d52e0ee-aab5-4ae2-bdea-54747006319f",
   "metadata": {},
   "outputs": [
    {
     "data": {
      "text/html": [
       "<div>\n",
       "<style scoped>\n",
       "    .dataframe tbody tr th:only-of-type {\n",
       "        vertical-align: middle;\n",
       "    }\n",
       "\n",
       "    .dataframe tbody tr th {\n",
       "        vertical-align: top;\n",
       "    }\n",
       "\n",
       "    .dataframe thead th {\n",
       "        text-align: right;\n",
       "    }\n",
       "</style>\n",
       "<table border=\"1\" class=\"dataframe\">\n",
       "  <thead>\n",
       "    <tr style=\"text-align: right;\">\n",
       "      <th></th>\n",
       "      <th>Temperature</th>\n",
       "      <th>Humidity</th>\n",
       "      <th>PM2.5</th>\n",
       "      <th>PM10</th>\n",
       "      <th>NO2</th>\n",
       "      <th>SO2</th>\n",
       "      <th>CO</th>\n",
       "      <th>Proximity_to_Industrial_Areas</th>\n",
       "      <th>Population_Density</th>\n",
       "      <th>Air Quality</th>\n",
       "    </tr>\n",
       "  </thead>\n",
       "  <tbody>\n",
       "    <tr>\n",
       "      <th>0</th>\n",
       "      <td>29.8</td>\n",
       "      <td>59.1</td>\n",
       "      <td>5.2</td>\n",
       "      <td>17.9</td>\n",
       "      <td>18.9</td>\n",
       "      <td>9.2</td>\n",
       "      <td>1.72</td>\n",
       "      <td>6.3</td>\n",
       "      <td>319</td>\n",
       "      <td>Moderate</td>\n",
       "    </tr>\n",
       "    <tr>\n",
       "      <th>1</th>\n",
       "      <td>28.3</td>\n",
       "      <td>75.6</td>\n",
       "      <td>2.3</td>\n",
       "      <td>12.2</td>\n",
       "      <td>30.8</td>\n",
       "      <td>9.7</td>\n",
       "      <td>1.64</td>\n",
       "      <td>6.0</td>\n",
       "      <td>611</td>\n",
       "      <td>Moderate</td>\n",
       "    </tr>\n",
       "    <tr>\n",
       "      <th>2</th>\n",
       "      <td>23.1</td>\n",
       "      <td>74.7</td>\n",
       "      <td>26.7</td>\n",
       "      <td>33.8</td>\n",
       "      <td>24.4</td>\n",
       "      <td>12.6</td>\n",
       "      <td>1.63</td>\n",
       "      <td>5.2</td>\n",
       "      <td>619</td>\n",
       "      <td>Moderate</td>\n",
       "    </tr>\n",
       "    <tr>\n",
       "      <th>3</th>\n",
       "      <td>27.1</td>\n",
       "      <td>39.1</td>\n",
       "      <td>6.1</td>\n",
       "      <td>6.3</td>\n",
       "      <td>13.5</td>\n",
       "      <td>5.3</td>\n",
       "      <td>1.15</td>\n",
       "      <td>11.1</td>\n",
       "      <td>551</td>\n",
       "      <td>Good</td>\n",
       "    </tr>\n",
       "    <tr>\n",
       "      <th>4</th>\n",
       "      <td>26.5</td>\n",
       "      <td>70.7</td>\n",
       "      <td>6.9</td>\n",
       "      <td>16.0</td>\n",
       "      <td>21.9</td>\n",
       "      <td>5.6</td>\n",
       "      <td>1.01</td>\n",
       "      <td>12.7</td>\n",
       "      <td>303</td>\n",
       "      <td>Good</td>\n",
       "    </tr>\n",
       "    <tr>\n",
       "      <th>...</th>\n",
       "      <td>...</td>\n",
       "      <td>...</td>\n",
       "      <td>...</td>\n",
       "      <td>...</td>\n",
       "      <td>...</td>\n",
       "      <td>...</td>\n",
       "      <td>...</td>\n",
       "      <td>...</td>\n",
       "      <td>...</td>\n",
       "      <td>...</td>\n",
       "    </tr>\n",
       "    <tr>\n",
       "      <th>4995</th>\n",
       "      <td>40.6</td>\n",
       "      <td>74.1</td>\n",
       "      <td>116.0</td>\n",
       "      <td>126.7</td>\n",
       "      <td>45.5</td>\n",
       "      <td>25.7</td>\n",
       "      <td>2.11</td>\n",
       "      <td>2.8</td>\n",
       "      <td>765</td>\n",
       "      <td>Hazardous</td>\n",
       "    </tr>\n",
       "    <tr>\n",
       "      <th>4996</th>\n",
       "      <td>28.1</td>\n",
       "      <td>96.9</td>\n",
       "      <td>6.9</td>\n",
       "      <td>25.0</td>\n",
       "      <td>25.3</td>\n",
       "      <td>10.8</td>\n",
       "      <td>1.54</td>\n",
       "      <td>5.7</td>\n",
       "      <td>709</td>\n",
       "      <td>Moderate</td>\n",
       "    </tr>\n",
       "    <tr>\n",
       "      <th>4997</th>\n",
       "      <td>25.9</td>\n",
       "      <td>78.2</td>\n",
       "      <td>14.2</td>\n",
       "      <td>22.1</td>\n",
       "      <td>34.8</td>\n",
       "      <td>7.8</td>\n",
       "      <td>1.63</td>\n",
       "      <td>9.6</td>\n",
       "      <td>379</td>\n",
       "      <td>Moderate</td>\n",
       "    </tr>\n",
       "    <tr>\n",
       "      <th>4998</th>\n",
       "      <td>25.3</td>\n",
       "      <td>44.4</td>\n",
       "      <td>21.4</td>\n",
       "      <td>29.0</td>\n",
       "      <td>23.7</td>\n",
       "      <td>5.7</td>\n",
       "      <td>0.89</td>\n",
       "      <td>11.6</td>\n",
       "      <td>241</td>\n",
       "      <td>Good</td>\n",
       "    </tr>\n",
       "    <tr>\n",
       "      <th>4999</th>\n",
       "      <td>24.1</td>\n",
       "      <td>77.9</td>\n",
       "      <td>81.7</td>\n",
       "      <td>94.3</td>\n",
       "      <td>23.2</td>\n",
       "      <td>10.5</td>\n",
       "      <td>1.38</td>\n",
       "      <td>8.3</td>\n",
       "      <td>461</td>\n",
       "      <td>Moderate</td>\n",
       "    </tr>\n",
       "  </tbody>\n",
       "</table>\n",
       "<p>5000 rows × 10 columns</p>\n",
       "</div>"
      ],
      "text/plain": [
       "      Temperature  Humidity  PM2.5   PM10   NO2   SO2    CO  \\\n",
       "0            29.8      59.1    5.2   17.9  18.9   9.2  1.72   \n",
       "1            28.3      75.6    2.3   12.2  30.8   9.7  1.64   \n",
       "2            23.1      74.7   26.7   33.8  24.4  12.6  1.63   \n",
       "3            27.1      39.1    6.1    6.3  13.5   5.3  1.15   \n",
       "4            26.5      70.7    6.9   16.0  21.9   5.6  1.01   \n",
       "...           ...       ...    ...    ...   ...   ...   ...   \n",
       "4995         40.6      74.1  116.0  126.7  45.5  25.7  2.11   \n",
       "4996         28.1      96.9    6.9   25.0  25.3  10.8  1.54   \n",
       "4997         25.9      78.2   14.2   22.1  34.8   7.8  1.63   \n",
       "4998         25.3      44.4   21.4   29.0  23.7   5.7  0.89   \n",
       "4999         24.1      77.9   81.7   94.3  23.2  10.5  1.38   \n",
       "\n",
       "      Proximity_to_Industrial_Areas  Population_Density Air Quality  \n",
       "0                               6.3                 319    Moderate  \n",
       "1                               6.0                 611    Moderate  \n",
       "2                               5.2                 619    Moderate  \n",
       "3                              11.1                 551        Good  \n",
       "4                              12.7                 303        Good  \n",
       "...                             ...                 ...         ...  \n",
       "4995                            2.8                 765   Hazardous  \n",
       "4996                            5.7                 709    Moderate  \n",
       "4997                            9.6                 379    Moderate  \n",
       "4998                           11.6                 241        Good  \n",
       "4999                            8.3                 461    Moderate  \n",
       "\n",
       "[5000 rows x 10 columns]"
      ]
     },
     "execution_count": 1,
     "metadata": {},
     "output_type": "execute_result"
    }
   ],
   "source": [
    "# 1.1\n",
    "import pandas as pd\n",
    "import numpy as np\n",
    "\n",
    "pollution_data = pd.read_csv('updated_pollution_dataset.csv')\n",
    "pollution_data\n"
   ]
  },
  {
   "cell_type": "code",
   "execution_count": 2,
   "id": "1db9b240-f057-4331-b8bd-5618bf44dbe7",
   "metadata": {},
   "outputs": [
    {
     "data": {
      "text/plain": [
       "(5000, 10)"
      ]
     },
     "execution_count": 2,
     "metadata": {},
     "output_type": "execute_result"
    }
   ],
   "source": [
    "# 1.2\n",
    "pollution_data.shape"
   ]
  },
  {
   "cell_type": "markdown",
   "id": "4e072adb-944b-48bf-88db-7f334073e7d6",
   "metadata": {},
   "source": [
    "1.3 Проверьте типы данных каждого столбца, чтобы убедиться, что числовые колонки — это int или float, а категориальные — object. Так же точно определить категориальные кодировать их значения"
   ]
  },
  {
   "cell_type": "code",
   "execution_count": 3,
   "id": "5560f6fd-3e98-44ab-ab09-a6f1f32178ba",
   "metadata": {},
   "outputs": [
    {
     "name": "stdout",
     "output_type": "stream",
     "text": [
      "<class 'pandas.core.frame.DataFrame'>\n",
      "RangeIndex: 5000 entries, 0 to 4999\n",
      "Data columns (total 10 columns):\n",
      " #   Column                         Non-Null Count  Dtype  \n",
      "---  ------                         --------------  -----  \n",
      " 0   Temperature                    5000 non-null   float64\n",
      " 1   Humidity                       5000 non-null   float64\n",
      " 2   PM2.5                          5000 non-null   float64\n",
      " 3   PM10                           5000 non-null   float64\n",
      " 4   NO2                            5000 non-null   float64\n",
      " 5   SO2                            5000 non-null   float64\n",
      " 6   CO                             5000 non-null   float64\n",
      " 7   Proximity_to_Industrial_Areas  5000 non-null   float64\n",
      " 8   Population_Density             5000 non-null   int64  \n",
      " 9   Air Quality                    5000 non-null   object \n",
      "dtypes: float64(8), int64(1), object(1)\n",
      "memory usage: 390.8+ KB\n"
     ]
    }
   ],
   "source": [
    "# 1.3\n",
    "pollution_data.info()"
   ]
  },
  {
   "cell_type": "markdown",
   "id": "b9017d1f-fef0-4cf6-9d18-ff9bef834ecf",
   "metadata": {},
   "source": [
    "1.4 Проверьте, нет ли пропущенных значений в датасете"
   ]
  },
  {
   "cell_type": "code",
   "execution_count": 4,
   "id": "237c44a5-9c47-46ab-9545-f6cdff740ab1",
   "metadata": {},
   "outputs": [
    {
     "name": "stdout",
     "output_type": "stream",
     "text": [
      "Temperature                      0\n",
      "Humidity                         0\n",
      "PM2.5                            0\n",
      "PM10                             0\n",
      "NO2                              0\n",
      "SO2                              0\n",
      "CO                               0\n",
      "Proximity_to_Industrial_Areas    0\n",
      "Population_Density               0\n",
      "Air Quality                      0\n",
      "dtype: int64\n"
     ]
    }
   ],
   "source": [
    "# 1.4\n",
    "missing_values = pollution_data.isna().sum()\n",
    "print(missing_values)\n"
   ]
  },
  {
   "cell_type": "markdown",
   "id": "138225c2-11de-4e90-9ec8-b4c221b5aa5e",
   "metadata": {},
   "source": [
    "# Шаг 2: Анализ зависимости между переменными"
   ]
  },
  {
   "cell_type": "code",
   "execution_count": null,
   "id": "74fabca3-70ba-4f3b-b1a2-808614c009fc",
   "metadata": {},
   "outputs": [],
   "source": [
    "2.1\n",
    "1. Кодирование значений целевой переменной Air Quality с использованием Label Encoding\n",
    "2. Рассчет корреляции каждой переменной с целевой переменной"
   ]
  },
  {
   "cell_type": "code",
   "execution_count": 5,
   "id": "a036b6bc-4a63-431d-bad4-5d52cdbb61c0",
   "metadata": {},
   "outputs": [
    {
     "data": {
      "image/png": "[encoded data removed]",
      "text/plain": [
       "<Figure size 1500x1000 with 8 Axes>"
      ]
     },
     "metadata": {},
     "output_type": "display_data"
    },
    {
     "name": "stdout",
     "output_type": "stream",
     "text": [
      "PM2.5                   0.418171\n",
      "PM10                    0.555691\n",
      "NO2                     0.785030\n",
      "SO2                     0.740201\n",
      "CO                      0.912534\n",
      "Temperature             0.753567\n",
      "Humidity                0.625546\n",
      "Industrial Proximity   -0.773637\n",
      "Name: Air Quality, dtype: float64\n"
     ]
    }
   ],
   "source": [
    "import pandas as pd\n",
    "import matplotlib.pyplot as plt  # For visualizations\n",
    "import seaborn as sns  # For advanced visualizations\n",
    "\n",
    "# Clean up column names for consistency\n",
    "pollution_data.columns = pollution_data.columns.str.strip()\n",
    "\n",
    "# Encoding Air Quality into numerical values\n",
    "air_quality_mapping = {\n",
    "    'Good': 1,\n",
    "    'Hazardous': 4,\n",
    "    'Moderate': 2,\n",
    "    'Poor': 3\n",
    "}\n",
    "pollution_data['Air Quality'] = pollution_data['Air Quality'].map(air_quality_mapping)\n",
    "\n",
    "# Selecting relevant columns for analysis\n",
    "columns = [\n",
    "    'Air Quality',\n",
    "    'PM2.5',\n",
    "    'PM10',\n",
    "    'NO2',\n",
    "    'SO2',\n",
    "    'CO',\n",
    "    'Temperature',\n",
    "    'Humidity',\n",
    "    'Proximity_to_Industrial_Areas'\n",
    "]\n",
    "\n",
    "pollution_data_filtered = pollution_data[columns]\n",
    "\n",
    "# Renaming columns for easier plotting\n",
    "pollution_data_filtered.columns = [\n",
    "    'Air Quality',\n",
    "    'PM2.5',\n",
    "    'PM10',\n",
    "    'NO2',\n",
    "    'SO2',\n",
    "    'CO',\n",
    "    'Temperature',\n",
    "    'Humidity',\n",
    "    'Industrial Proximity'\n",
    "]\n",
    "\n",
    "# Calculating correlations with Air Quality\n",
    "correlations = pollution_data_filtered.corr()['Air Quality'][1:]\n",
    "\n",
    "# Plotting scatter plots to visualize relationships\n",
    "plt.figure(figsize=(15, 10))\n",
    "for i, column in enumerate(pollution_data_filtered.columns[1:], start=1):\n",
    "    plt.subplot(3, 3, i)\n",
    "    sns.scatterplot(data=pollution_data_filtered, x=column, y='Air Quality')\n",
    "    plt.title(f'Air Quality vs {column}')\n",
    "    plt.xlabel(column)\n",
    "    plt.ylabel('Air Quality')\n",
    "\n",
    "plt.tight_layout()\n",
    "plt.show()\n",
    "\n",
    "# Displaying correlations to understand linearity\n",
    "print(correlations)\n"
   ]
  },
  {
   "cell_type": "markdown",
   "id": "fb7a8231-3487-460e-91b4-d0aacf2c82cb",
   "metadata": {},
   "source": [
    "# Шаг 3: Подготовка данных"
   ]
  },
  {
   "cell_type": "markdown",
   "id": "803e7aae-91d5-458a-ba19-dc6478aeff3b",
   "metadata": {},
   "source": [
    "3.1. Удаление лишних переменных\n",
    "PM2.5 имеет низкую корреляцию, поэтому её стоит удалить:\n",
    "pollution_data_filtered = pollution_data_filtered.drop(columns=['PM2.5'])"
   ]
  },
  {
   "cell_type": "code",
   "execution_count": 6,
   "id": "98a3fb63-504e-47f5-8322-1bef0ec060bf",
   "metadata": {},
   "outputs": [],
   "source": [
    "pollution_data_filtered = pollution_data_filtered.drop(columns=['PM2.5'])"
   ]
  },
  {
   "cell_type": "code",
   "execution_count": 7,
   "id": "b4e6dbcc-3a26-4d18-b04b-16a01de5f4a9",
   "metadata": {},
   "outputs": [
    {
     "data": {
      "text/html": [
       "<div>\n",
       "<style scoped>\n",
       "    .dataframe tbody tr th:only-of-type {\n",
       "        vertical-align: middle;\n",
       "    }\n",
       "\n",
       "    .dataframe tbody tr th {\n",
       "        vertical-align: top;\n",
       "    }\n",
       "\n",
       "    .dataframe thead th {\n",
       "        text-align: right;\n",
       "    }\n",
       "</style>\n",
       "<table border=\"1\" class=\"dataframe\">\n",
       "  <thead>\n",
       "    <tr style=\"text-align: right;\">\n",
       "      <th></th>\n",
       "      <th>Air Quality</th>\n",
       "      <th>PM10</th>\n",
       "      <th>NO2</th>\n",
       "      <th>SO2</th>\n",
       "      <th>CO</th>\n",
       "      <th>Temperature</th>\n",
       "      <th>Humidity</th>\n",
       "      <th>Industrial Proximity</th>\n",
       "    </tr>\n",
       "  </thead>\n",
       "  <tbody>\n",
       "    <tr>\n",
       "      <th>0</th>\n",
       "      <td>2</td>\n",
       "      <td>17.9</td>\n",
       "      <td>18.9</td>\n",
       "      <td>9.2</td>\n",
       "      <td>1.72</td>\n",
       "      <td>29.8</td>\n",
       "      <td>59.1</td>\n",
       "      <td>6.3</td>\n",
       "    </tr>\n",
       "    <tr>\n",
       "      <th>1</th>\n",
       "      <td>2</td>\n",
       "      <td>12.2</td>\n",
       "      <td>30.8</td>\n",
       "      <td>9.7</td>\n",
       "      <td>1.64</td>\n",
       "      <td>28.3</td>\n",
       "      <td>75.6</td>\n",
       "      <td>6.0</td>\n",
       "    </tr>\n",
       "    <tr>\n",
       "      <th>2</th>\n",
       "      <td>2</td>\n",
       "      <td>33.8</td>\n",
       "      <td>24.4</td>\n",
       "      <td>12.6</td>\n",
       "      <td>1.63</td>\n",
       "      <td>23.1</td>\n",
       "      <td>74.7</td>\n",
       "      <td>5.2</td>\n",
       "    </tr>\n",
       "    <tr>\n",
       "      <th>3</th>\n",
       "      <td>1</td>\n",
       "      <td>6.3</td>\n",
       "      <td>13.5</td>\n",
       "      <td>5.3</td>\n",
       "      <td>1.15</td>\n",
       "      <td>27.1</td>\n",
       "      <td>39.1</td>\n",
       "      <td>11.1</td>\n",
       "    </tr>\n",
       "    <tr>\n",
       "      <th>4</th>\n",
       "      <td>1</td>\n",
       "      <td>16.0</td>\n",
       "      <td>21.9</td>\n",
       "      <td>5.6</td>\n",
       "      <td>1.01</td>\n",
       "      <td>26.5</td>\n",
       "      <td>70.7</td>\n",
       "      <td>12.7</td>\n",
       "    </tr>\n",
       "    <tr>\n",
       "      <th>...</th>\n",
       "      <td>...</td>\n",
       "      <td>...</td>\n",
       "      <td>...</td>\n",
       "      <td>...</td>\n",
       "      <td>...</td>\n",
       "      <td>...</td>\n",
       "      <td>...</td>\n",
       "      <td>...</td>\n",
       "    </tr>\n",
       "    <tr>\n",
       "      <th>4995</th>\n",
       "      <td>4</td>\n",
       "      <td>126.7</td>\n",
       "      <td>45.5</td>\n",
       "      <td>25.7</td>\n",
       "      <td>2.11</td>\n",
       "      <td>40.6</td>\n",
       "      <td>74.1</td>\n",
       "      <td>2.8</td>\n",
       "    </tr>\n",
       "    <tr>\n",
       "      <th>4996</th>\n",
       "      <td>2</td>\n",
       "      <td>25.0</td>\n",
       "      <td>25.3</td>\n",
       "      <td>10.8</td>\n",
       "      <td>1.54</td>\n",
       "      <td>28.1</td>\n",
       "      <td>96.9</td>\n",
       "      <td>5.7</td>\n",
       "    </tr>\n",
       "    <tr>\n",
       "      <th>4997</th>\n",
       "      <td>2</td>\n",
       "      <td>22.1</td>\n",
       "      <td>34.8</td>\n",
       "      <td>7.8</td>\n",
       "      <td>1.63</td>\n",
       "      <td>25.9</td>\n",
       "      <td>78.2</td>\n",
       "      <td>9.6</td>\n",
       "    </tr>\n",
       "    <tr>\n",
       "      <th>4998</th>\n",
       "      <td>1</td>\n",
       "      <td>29.0</td>\n",
       "      <td>23.7</td>\n",
       "      <td>5.7</td>\n",
       "      <td>0.89</td>\n",
       "      <td>25.3</td>\n",
       "      <td>44.4</td>\n",
       "      <td>11.6</td>\n",
       "    </tr>\n",
       "    <tr>\n",
       "      <th>4999</th>\n",
       "      <td>2</td>\n",
       "      <td>94.3</td>\n",
       "      <td>23.2</td>\n",
       "      <td>10.5</td>\n",
       "      <td>1.38</td>\n",
       "      <td>24.1</td>\n",
       "      <td>77.9</td>\n",
       "      <td>8.3</td>\n",
       "    </tr>\n",
       "  </tbody>\n",
       "</table>\n",
       "<p>5000 rows × 8 columns</p>\n",
       "</div>"
      ],
      "text/plain": [
       "      Air Quality   PM10   NO2   SO2    CO  Temperature  Humidity  \\\n",
       "0               2   17.9  18.9   9.2  1.72         29.8      59.1   \n",
       "1               2   12.2  30.8   9.7  1.64         28.3      75.6   \n",
       "2               2   33.8  24.4  12.6  1.63         23.1      74.7   \n",
       "3               1    6.3  13.5   5.3  1.15         27.1      39.1   \n",
       "4               1   16.0  21.9   5.6  1.01         26.5      70.7   \n",
       "...           ...    ...   ...   ...   ...          ...       ...   \n",
       "4995            4  126.7  45.5  25.7  2.11         40.6      74.1   \n",
       "4996            2   25.0  25.3  10.8  1.54         28.1      96.9   \n",
       "4997            2   22.1  34.8   7.8  1.63         25.9      78.2   \n",
       "4998            1   29.0  23.7   5.7  0.89         25.3      44.4   \n",
       "4999            2   94.3  23.2  10.5  1.38         24.1      77.9   \n",
       "\n",
       "      Industrial Proximity  \n",
       "0                      6.3  \n",
       "1                      6.0  \n",
       "2                      5.2  \n",
       "3                     11.1  \n",
       "4                     12.7  \n",
       "...                    ...  \n",
       "4995                   2.8  \n",
       "4996                   5.7  \n",
       "4997                   9.6  \n",
       "4998                  11.6  \n",
       "4999                   8.3  \n",
       "\n",
       "[5000 rows x 8 columns]"
      ]
     },
     "execution_count": 7,
     "metadata": {},
     "output_type": "execute_result"
    }
   ],
   "source": [
    "# Проверяем данные после удаления колонки PM2.5\n",
    "pollution_data_filtered "
   ]
  },
  {
   "cell_type": "markdown",
   "id": "158f5a22-52ae-400f-9d19-60265850128a",
   "metadata": {},
   "source": [
    "3.2. Разделение данных на фичи и целевую переменную:\n",
    "1. Фичи (X): Остальные переменные.\n",
    "2. Целевая переменная (y): Air Quality."
   ]
  },
  {
   "cell_type": "code",
   "execution_count": 8,
   "id": "92f307be-5adf-4e58-b995-997bdd373816",
   "metadata": {},
   "outputs": [],
   "source": [
    "# 3.2\n",
    "X = pollution_data_filtered.drop(columns=['Air Quality'])\n",
    "y = pollution_data_filtered['Air Quality']\n"
   ]
  },
  {
   "cell_type": "markdown",
   "id": "7d32cc7d-cce9-437f-b57c-eab7975388e5",
   "metadata": {},
   "source": [
    "3.3 Числовая характеристика признаков"
   ]
  },
  {
   "cell_type": "code",
   "execution_count": 9,
   "id": "507b11a9-7cf7-44ba-95f8-85d5363aadde",
   "metadata": {},
   "outputs": [
    {
     "data": {
      "text/html": [
       "<div>\n",
       "<style scoped>\n",
       "    .dataframe tbody tr th:only-of-type {\n",
       "        vertical-align: middle;\n",
       "    }\n",
       "\n",
       "    .dataframe tbody tr th {\n",
       "        vertical-align: top;\n",
       "    }\n",
       "\n",
       "    .dataframe thead th {\n",
       "        text-align: right;\n",
       "    }\n",
       "</style>\n",
       "<table border=\"1\" class=\"dataframe\">\n",
       "  <thead>\n",
       "    <tr style=\"text-align: right;\">\n",
       "      <th></th>\n",
       "      <th>Air Quality</th>\n",
       "      <th>PM10</th>\n",
       "      <th>NO2</th>\n",
       "      <th>SO2</th>\n",
       "      <th>CO</th>\n",
       "      <th>Temperature</th>\n",
       "      <th>Humidity</th>\n",
       "      <th>Industrial Proximity</th>\n",
       "    </tr>\n",
       "  </thead>\n",
       "  <tbody>\n",
       "    <tr>\n",
       "      <th>count</th>\n",
       "      <td>5000.0</td>\n",
       "      <td>5000.00</td>\n",
       "      <td>5000.00</td>\n",
       "      <td>5000.00</td>\n",
       "      <td>5000.00</td>\n",
       "      <td>5000.00</td>\n",
       "      <td>5000.00</td>\n",
       "      <td>5000.00</td>\n",
       "    </tr>\n",
       "    <tr>\n",
       "      <th>mean</th>\n",
       "      <td>2.0</td>\n",
       "      <td>30.22</td>\n",
       "      <td>26.41</td>\n",
       "      <td>10.01</td>\n",
       "      <td>1.50</td>\n",
       "      <td>30.03</td>\n",
       "      <td>70.06</td>\n",
       "      <td>8.43</td>\n",
       "    </tr>\n",
       "    <tr>\n",
       "      <th>std</th>\n",
       "      <td>1.0</td>\n",
       "      <td>27.35</td>\n",
       "      <td>8.90</td>\n",
       "      <td>6.75</td>\n",
       "      <td>0.55</td>\n",
       "      <td>6.72</td>\n",
       "      <td>15.86</td>\n",
       "      <td>3.61</td>\n",
       "    </tr>\n",
       "    <tr>\n",
       "      <th>min</th>\n",
       "      <td>1.0</td>\n",
       "      <td>-0.20</td>\n",
       "      <td>7.40</td>\n",
       "      <td>-6.20</td>\n",
       "      <td>0.65</td>\n",
       "      <td>13.40</td>\n",
       "      <td>36.00</td>\n",
       "      <td>2.50</td>\n",
       "    </tr>\n",
       "    <tr>\n",
       "      <th>25%</th>\n",
       "      <td>1.0</td>\n",
       "      <td>12.30</td>\n",
       "      <td>20.10</td>\n",
       "      <td>5.10</td>\n",
       "      <td>1.03</td>\n",
       "      <td>25.10</td>\n",
       "      <td>58.30</td>\n",
       "      <td>5.40</td>\n",
       "    </tr>\n",
       "    <tr>\n",
       "      <th>50%</th>\n",
       "      <td>2.0</td>\n",
       "      <td>21.70</td>\n",
       "      <td>25.30</td>\n",
       "      <td>8.00</td>\n",
       "      <td>1.41</td>\n",
       "      <td>29.00</td>\n",
       "      <td>69.80</td>\n",
       "      <td>7.90</td>\n",
       "    </tr>\n",
       "    <tr>\n",
       "      <th>75%</th>\n",
       "      <td>3.0</td>\n",
       "      <td>38.10</td>\n",
       "      <td>31.90</td>\n",
       "      <td>13.72</td>\n",
       "      <td>1.84</td>\n",
       "      <td>34.00</td>\n",
       "      <td>80.30</td>\n",
       "      <td>11.10</td>\n",
       "    </tr>\n",
       "    <tr>\n",
       "      <th>max</th>\n",
       "      <td>4.0</td>\n",
       "      <td>315.80</td>\n",
       "      <td>64.90</td>\n",
       "      <td>44.90</td>\n",
       "      <td>3.72</td>\n",
       "      <td>58.60</td>\n",
       "      <td>128.10</td>\n",
       "      <td>25.80</td>\n",
       "    </tr>\n",
       "  </tbody>\n",
       "</table>\n",
       "</div>"
      ],
      "text/plain": [
       "       Air Quality     PM10      NO2      SO2       CO  Temperature  Humidity  \\\n",
       "count       5000.0  5000.00  5000.00  5000.00  5000.00      5000.00   5000.00   \n",
       "mean           2.0    30.22    26.41    10.01     1.50        30.03     70.06   \n",
       "std            1.0    27.35     8.90     6.75     0.55         6.72     15.86   \n",
       "min            1.0    -0.20     7.40    -6.20     0.65        13.40     36.00   \n",
       "25%            1.0    12.30    20.10     5.10     1.03        25.10     58.30   \n",
       "50%            2.0    21.70    25.30     8.00     1.41        29.00     69.80   \n",
       "75%            3.0    38.10    31.90    13.72     1.84        34.00     80.30   \n",
       "max            4.0   315.80    64.90    44.90     3.72        58.60    128.10   \n",
       "\n",
       "       Industrial Proximity  \n",
       "count               5000.00  \n",
       "mean                   8.43  \n",
       "std                    3.61  \n",
       "min                    2.50  \n",
       "25%                    5.40  \n",
       "50%                    7.90  \n",
       "75%                   11.10  \n",
       "max                   25.80  "
      ]
     },
     "execution_count": 9,
     "metadata": {},
     "output_type": "execute_result"
    }
   ],
   "source": [
    "# 3.3\n",
    "pollution_data_filtered.describe().round(2)"
   ]
  },
  {
   "cell_type": "markdown",
   "id": "b61e2cb5-9c60-442e-a13c-e678f82b7e15",
   "metadata": {},
   "source": [
    "# Шаг 4: Разделение данных на train и test"
   ]
  },
  {
   "cell_type": "markdown",
   "id": "0697da2f-08ed-4d01-8ea8-09a872cc71d9",
   "metadata": {},
   "source": [
    "4.1 Разделите данные на обучающую и тестовую выборки (train и test) 🧩."
   ]
  },
  {
   "cell_type": "code",
   "execution_count": 10,
   "id": "71691d85-85c5-4a8c-bc9a-9a87190a21ee",
   "metadata": {},
   "outputs": [
    {
     "name": "stdout",
     "output_type": "stream",
     "text": [
      "X_train: (4000, 7), X_test: (1000, 7)\n",
      "y_train: (4000,), y_test: (1000,)\n"
     ]
    }
   ],
   "source": [
    "# 4.1 \n",
    "from sklearn.model_selection import train_test_split\n",
    "\n",
    "X_train, X_test, y_train, y_test=train_test_split(X, y, test_size=0.2, random_state=42)\n",
    "\n",
    "print(f\"X_train: {X_train.shape}, X_test: {X_test.shape}\")\n",
    "print(f\"y_train: {y_train.shape}, y_test: {y_test.shape}\")"
   ]
  },
  {
   "cell_type": "markdown",
   "id": "7c59c7b8-70b4-4f10-9f66-2517f7d32864",
   "metadata": {},
   "source": [
    "4.2 Выведите числовую характеристику целевой переменной y_train и y_test с помощью метода .describe() 📊."
   ]
  },
  {
   "cell_type": "code",
   "execution_count": 11,
   "id": "5d1e53ef-de2d-47e2-988b-659d3526e734",
   "metadata": {},
   "outputs": [
    {
     "data": {
      "text/plain": [
       "count    4000.0\n",
       "mean        2.0\n",
       "std         1.0\n",
       "min         1.0\n",
       "25%         1.0\n",
       "50%         2.0\n",
       "75%         3.0\n",
       "max         4.0\n",
       "Name: Air Quality, dtype: float64"
      ]
     },
     "execution_count": 11,
     "metadata": {},
     "output_type": "execute_result"
    }
   ],
   "source": [
    "# 4.2\n",
    "y_train.describe().round(2)"
   ]
  },
  {
   "cell_type": "code",
   "execution_count": 12,
   "id": "0cf4da67-c958-41af-80c5-718c8536d9eb",
   "metadata": {},
   "outputs": [
    {
     "data": {
      "text/plain": [
       "count    1000.00\n",
       "mean        2.00\n",
       "std         1.02\n",
       "min         1.00\n",
       "25%         1.00\n",
       "50%         2.00\n",
       "75%         3.00\n",
       "max         4.00\n",
       "Name: Air Quality, dtype: float64"
      ]
     },
     "execution_count": 12,
     "metadata": {},
     "output_type": "execute_result"
    }
   ],
   "source": [
    "y_test.describe().round(2)"
   ]
  },
  {
   "cell_type": "markdown",
   "id": "42df0c86-67e0-49f5-9af9-b52aaa0bff81",
   "metadata": {},
   "source": [
    "# Шаг 4: Выбор модели"
   ]
  },
  {
   "cell_type": "markdown",
   "id": "6418ea6f-e592-446a-8ffd-bf2cd8434358",
   "metadata": {},
   "source": [
    "4.1. Сравнение моделей (CatBoost и XGBoost)"
   ]
  },
  {
   "cell_type": "code",
   "execution_count": 13,
   "id": "147db795-674f-433c-99c6-1eb8acd2f28a",
   "metadata": {},
   "outputs": [
    {
     "name": "stdout",
     "output_type": "stream",
     "text": [
      "CatBoostRegressor: MSE = 0.042641499441054935 , R² = 0.9589590563214643\n",
      "XGBRegressor: MSE = 0.03930230708996308 , R² = 0.9621729115331554\n"
     ]
    }
   ],
   "source": [
    "from catboost import CatBoostRegressor\n",
    "from xgboost import XGBRegressor\n",
    "from sklearn.model_selection import train_test_split\n",
    "from sklearn.metrics import mean_squared_error, r2_score\n",
    "\n",
    "# Разделение данных на тренировочные и тестовые выборки\n",
    "X = pollution_data_filtered.drop(columns=['Air Quality'])\n",
    "y = pollution_data_filtered['Air Quality']\n",
    "X_train, X_test, y_train, y_test = train_test_split(X, y, test_size=0.2, random_state=42)\n",
    "\n",
    "# Модель CatBoostRegressor\n",
    "catboost_reg = CatBoostRegressor(\n",
    "    iterations=100,\n",
    "    depth=5,\n",
    "    learning_rate=0.1,\n",
    "    random_seed=42,\n",
    "    verbose=False\n",
    ")\n",
    "catboost_reg.fit(X_train, y_train)\n",
    "y_pred_cat = catboost_reg.predict(X_test)\n",
    "mse_cat = mean_squared_error(y_test, y_pred_cat)\n",
    "r2_cat = r2_score(y_test, y_pred_cat)\n",
    "\n",
    "# Модель XGBRegressor\n",
    "xgb_reg = XGBRegressor(\n",
    "    n_estimators=100,\n",
    "    max_depth=5,\n",
    "    learning_rate=0.1,\n",
    "    random_state=42\n",
    ")\n",
    "xgb_reg.fit(X_train, y_train)\n",
    "y_pred_xgb = xgb_reg.predict(X_test)\n",
    "mse_xgb = mean_squared_error(y_test, y_pred_xgb)\n",
    "r2_xgb = r2_score(y_test, y_pred_xgb)\n",
    "\n",
    "# Сравнение метрик\n",
    "print(\"CatBoostRegressor: MSE =\", mse_cat, \", R² =\", r2_cat)\n",
    "print(\"XGBRegressor: MSE =\", mse_xgb, \", R² =\", r2_xgb)\n"
   ]
  },
  {
   "cell_type": "markdown",
   "id": "32ddf540-92d4-45c0-8218-4dabd9655781",
   "metadata": {},
   "source": [
    "4.2 Настройка гиперпараметров"
   ]
  },
  {
   "cell_type": "code",
   "execution_count": 14,
   "id": "a9432482-7b9b-4d9b-8ca0-98095f2e91e1",
   "metadata": {},
   "outputs": [
    {
     "name": "stdout",
     "output_type": "stream",
     "text": [
      "Fitting 3 folds for each of 27 candidates, totalling 81 fits\n",
      "Лучшие параметры: {'learning_rate': 0.1, 'max_depth': 5, 'n_estimators': 100}\n",
      "R² для лучшей модели: 0.9621729115331554\n"
     ]
    }
   ],
   "source": [
    "from sklearn.model_selection import GridSearchCV\n",
    "\n",
    "# Определяем сетку гиперпараметров\n",
    "param_grid = {\n",
    "    'n_estimators': [50, 100, 200],\n",
    "    'max_depth': [3, 5, 7],\n",
    "    'learning_rate': [0.01, 0.1, 0.2]\n",
    "}\n",
    "\n",
    "# Инициализация модели\n",
    "xgb_reg = XGBRegressor(random_state=42)\n",
    "\n",
    "# GridSearchCV\n",
    "grid_search = GridSearchCV(estimator=xgb_reg, param_grid=param_grid, scoring='r2', cv=3, verbose=1)\n",
    "grid_search.fit(X_train, y_train)\n",
    "\n",
    "# Лучшая модель\n",
    "best_model = grid_search.best_estimator_\n",
    "print(\"Лучшие параметры:\", grid_search.best_params_)\n",
    "\n",
    "# Оценка на тестовой выборке\n",
    "y_pred_best = best_model.predict(X_test)\n",
    "print(\"R² для лучшей модели:\", r2_score(y_test, y_pred_best))\n"
   ]
  },
  {
   "cell_type": "code",
   "execution_count": 15,
   "id": "162b00c2-54ba-46e6-98aa-8ac9c0c8573b",
   "metadata": {},
   "outputs": [
    {
     "name": "stdout",
     "output_type": "stream",
     "text": [
      "Средний R² на кросс-валидации: 0.9534252952550041\n"
     ]
    }
   ],
   "source": [
    "# 4.3 Средний R² на кросс-валидации\n",
    "from sklearn.model_selection import cross_val_score\n",
    "\n",
    "cv_scores = cross_val_score(best_model, X_train, y_train, cv=5, scoring='r2')\n",
    "print(\"Средний R² на кросс-валидации:\", cv_scores.mean())\n"
   ]
  },
  {
   "cell_type": "code",
   "execution_count": 16,
   "id": "04142c9c-761f-4185-850f-47bd16c5c293",
   "metadata": {},
   "outputs": [
    {
     "name": "stdout",
     "output_type": "stream",
     "text": [
      "RMSE: 0.19824809479529198\n"
     ]
    }
   ],
   "source": [
    "# 4.4 RMSE\n",
    "from math import sqrt\n",
    "rmse = sqrt(mean_squared_error(y_test, y_pred_best))\n",
    "print(\"RMSE:\", rmse)\n"
   ]
  },
  {
   "cell_type": "code",
   "execution_count": 17,
   "id": "8f7a3df8-4e6b-4793-859b-058a9cc5449d",
   "metadata": {},
   "outputs": [
    {
     "data": {
      "image/png": "[encoded data removed]",
      "text/plain": [
       "<Figure size 1000x600 with 1 Axes>"
      ]
     },
     "metadata": {},
     "output_type": "display_data"
    }
   ],
   "source": [
    "# 4.5 Важность признаков\n",
    "import matplotlib.pyplot as plt\n",
    "import numpy as np\n",
    "\n",
    "feature_importances = best_model.feature_importances_\n",
    "\n",
    "# Сортировка индексов признаков по убыванию важности\n",
    "indices = np.argsort(feature_importances)[::-1]\n",
    "\n",
    "# Создание списка имен отсортированных признаков\n",
    "names = [X_train.columns[i] for i in indices]\n",
    "\n",
    "# Визуализация\n",
    "plt.figure(figsize=(10,6))\n",
    "plt.barh(range(X_train.shape[1]), feature_importances[indices], align='center')\n",
    "plt.yticks(range(X_train.shape[1]), names)\n",
    "plt.xlabel('Важность')\n",
    "plt.ylabel('Признаки')\n",
    "plt.title('Важность признаков')\n",
    "plt.show()\n"
   ]
  },
  {
   "cell_type": "code",
   "execution_count": 18,
   "id": "c84e8b60-c821-4b90-87f3-894c195365c8",
   "metadata": {},
   "outputs": [
    {
     "name": "stdout",
     "output_type": "stream",
     "text": [
      "Модель обучена на полном наборе данных и сохранена как 'final_xgb_model.pkl'.\n",
      "Оценка модели на полном наборе данных:\n",
      "Mean Squared Error (MSE): 0.0170\n",
      "R² Score: 0.9830\n"
     ]
    }
   ],
   "source": [
    "# 4.6 Объединение данныех и обучение \n",
    "from xgboost import XGBRegressor\n",
    "from sklearn.metrics import mean_squared_error, r2_score\n",
    "import joblib\n",
    "\n",
    "# Объединение данных для полного обучения\n",
    "X_full = pd.concat([X_train, X_test], axis=0)\n",
    "y_full = pd.concat([y_train, y_test], axis=0)\n",
    "\n",
    "# Используем лучшие параметры, найденные с помощью GridSearchCV\n",
    "best_params = {'learning_rate': 0.1, 'max_depth': 5, 'n_estimators': 100}\n",
    "\n",
    "# Создаем модель с оптимальными гиперпараметрами\n",
    "final_model = XGBRegressor(\n",
    "    learning_rate=best_params['learning_rate'],\n",
    "    max_depth=best_params['max_depth'],\n",
    "    n_estimators=best_params['n_estimators'],\n",
    "    random_state=42\n",
    ")\n",
    "\n",
    "# Обучение модели на полном наборе данных\n",
    "final_model.fit(X_full, y_full)\n",
    "\n",
    "# Сохранение модели для использования в будущем\n",
    "joblib.dump(final_model, \"final_xgb_model.pkl\")\n",
    "print(\"Модель обучена на полном наборе данных и сохранена как 'final_xgb_model.pkl'.\")\n",
    "\n",
    "# Оценка модели на полном наборе данных (по желанию)\n",
    "y_full_pred = final_model.predict(X_full)\n",
    "mse_full = mean_squared_error(y_full, y_full_pred)\n",
    "r2_full = r2_score(y_full, y_full_pred)\n",
    "\n",
    "print(\"Оценка модели на полном наборе данных:\")\n",
    "print(f\"Mean Squared Error (MSE): {mse_full:.4f}\")\n",
    "print(f\"R² Score: {r2_full:.4f}\")\n"
   ]
  },
  {
   "cell_type": "code",
   "execution_count": 19,
   "id": "9b6142b2-59a1-46cb-aba6-98034de31152",
   "metadata": {},
   "outputs": [],
   "source": [
    "import joblib\n",
    "\n",
    "# 4.7 Сохранение модели\n",
    "joblib.dump(best_model, \"xgb_regressor.pkl\")\n",
    "\n",
    "# Загрузка модели (проверка)\n",
    "loaded_model = joblib.load(\"xgb_regressor.pkl\")\n"
   ]
  },
  {
   "cell_type": "code",
   "execution_count": 20,
   "id": "0a44997c-9e06-4753-b172-19605f86ff4b",
   "metadata": {},
   "outputs": [
    {
     "data": {
      "text/html": [
       "<div>\n",
       "<style scoped>\n",
       "    .dataframe tbody tr th:only-of-type {\n",
       "        vertical-align: middle;\n",
       "    }\n",
       "\n",
       "    .dataframe tbody tr th {\n",
       "        vertical-align: top;\n",
       "    }\n",
       "\n",
       "    .dataframe thead th {\n",
       "        text-align: right;\n",
       "    }\n",
       "</style>\n",
       "<table border=\"1\" class=\"dataframe\">\n",
       "  <thead>\n",
       "    <tr style=\"text-align: right;\">\n",
       "      <th></th>\n",
       "      <th>Air Quality</th>\n",
       "      <th>PM10</th>\n",
       "      <th>NO2</th>\n",
       "      <th>SO2</th>\n",
       "      <th>CO</th>\n",
       "      <th>Temperature</th>\n",
       "      <th>Humidity</th>\n",
       "      <th>Industrial Proximity</th>\n",
       "    </tr>\n",
       "  </thead>\n",
       "  <tbody>\n",
       "    <tr>\n",
       "      <th>count</th>\n",
       "      <td>5000.0</td>\n",
       "      <td>5000.00</td>\n",
       "      <td>5000.00</td>\n",
       "      <td>5000.00</td>\n",
       "      <td>5000.00</td>\n",
       "      <td>5000.00</td>\n",
       "      <td>5000.00</td>\n",
       "      <td>5000.00</td>\n",
       "    </tr>\n",
       "    <tr>\n",
       "      <th>mean</th>\n",
       "      <td>2.0</td>\n",
       "      <td>30.22</td>\n",
       "      <td>26.41</td>\n",
       "      <td>10.01</td>\n",
       "      <td>1.50</td>\n",
       "      <td>30.03</td>\n",
       "      <td>70.06</td>\n",
       "      <td>8.43</td>\n",
       "    </tr>\n",
       "    <tr>\n",
       "      <th>std</th>\n",
       "      <td>1.0</td>\n",
       "      <td>27.35</td>\n",
       "      <td>8.90</td>\n",
       "      <td>6.75</td>\n",
       "      <td>0.55</td>\n",
       "      <td>6.72</td>\n",
       "      <td>15.86</td>\n",
       "      <td>3.61</td>\n",
       "    </tr>\n",
       "    <tr>\n",
       "      <th>min</th>\n",
       "      <td>1.0</td>\n",
       "      <td>-0.20</td>\n",
       "      <td>7.40</td>\n",
       "      <td>-6.20</td>\n",
       "      <td>0.65</td>\n",
       "      <td>13.40</td>\n",
       "      <td>36.00</td>\n",
       "      <td>2.50</td>\n",
       "    </tr>\n",
       "    <tr>\n",
       "      <th>25%</th>\n",
       "      <td>1.0</td>\n",
       "      <td>12.30</td>\n",
       "      <td>20.10</td>\n",
       "      <td>5.10</td>\n",
       "      <td>1.03</td>\n",
       "      <td>25.10</td>\n",
       "      <td>58.30</td>\n",
       "      <td>5.40</td>\n",
       "    </tr>\n",
       "    <tr>\n",
       "      <th>50%</th>\n",
       "      <td>2.0</td>\n",
       "      <td>21.70</td>\n",
       "      <td>25.30</td>\n",
       "      <td>8.00</td>\n",
       "      <td>1.41</td>\n",
       "      <td>29.00</td>\n",
       "      <td>69.80</td>\n",
       "      <td>7.90</td>\n",
       "    </tr>\n",
       "    <tr>\n",
       "      <th>75%</th>\n",
       "      <td>3.0</td>\n",
       "      <td>38.10</td>\n",
       "      <td>31.90</td>\n",
       "      <td>13.72</td>\n",
       "      <td>1.84</td>\n",
       "      <td>34.00</td>\n",
       "      <td>80.30</td>\n",
       "      <td>11.10</td>\n",
       "    </tr>\n",
       "    <tr>\n",
       "      <th>max</th>\n",
       "      <td>4.0</td>\n",
       "      <td>315.80</td>\n",
       "      <td>64.90</td>\n",
       "      <td>44.90</td>\n",
       "      <td>3.72</td>\n",
       "      <td>58.60</td>\n",
       "      <td>128.10</td>\n",
       "      <td>25.80</td>\n",
       "    </tr>\n",
       "  </tbody>\n",
       "</table>\n",
       "</div>"
      ],
      "text/plain": [
       "       Air Quality     PM10      NO2      SO2       CO  Temperature  Humidity  \\\n",
       "count       5000.0  5000.00  5000.00  5000.00  5000.00      5000.00   5000.00   \n",
       "mean           2.0    30.22    26.41    10.01     1.50        30.03     70.06   \n",
       "std            1.0    27.35     8.90     6.75     0.55         6.72     15.86   \n",
       "min            1.0    -0.20     7.40    -6.20     0.65        13.40     36.00   \n",
       "25%            1.0    12.30    20.10     5.10     1.03        25.10     58.30   \n",
       "50%            2.0    21.70    25.30     8.00     1.41        29.00     69.80   \n",
       "75%            3.0    38.10    31.90    13.72     1.84        34.00     80.30   \n",
       "max            4.0   315.80    64.90    44.90     3.72        58.60    128.10   \n",
       "\n",
       "       Industrial Proximity  \n",
       "count               5000.00  \n",
       "mean                   8.43  \n",
       "std                    3.61  \n",
       "min                    2.50  \n",
       "25%                    5.40  \n",
       "50%                    7.90  \n",
       "75%                   11.10  \n",
       "max                   25.80  "
      ]
     },
     "execution_count": 20,
     "metadata": {},
     "output_type": "execute_result"
    }
   ],
   "source": [
    "pollution_data_filtered.describe().round(2)"
   ]
  },
  {
   "cell_type": "code",
   "execution_count": 21,
   "id": "edcf8b12-90a1-47c2-8e5a-f6e4a6f4bdf4",
   "metadata": {},
   "outputs": [
    {
     "name": "stdout",
     "output_type": "stream",
     "text": [
      "Прогнозируемое качество воздуха (Air Quality): 1.9740813\n",
      "Прогнозируемое качество воздуха: Moderate\n"
     ]
    }
   ],
   "source": [
    "# 4.8 Проверка и тестирование\n",
    "import pandas as pd\n",
    "import joblib\n",
    "\n",
    "# Загрузка обученной модели\n",
    "loaded_model = joblib.load(\"xgb_regressor.pkl\")\n",
    "\n",
    "# Пример новых данных (на основе предоставленных вами данных)\n",
    "new_data = pd.DataFrame({\n",
    "    'PM10': [17.9],\n",
    "    'NO2': [18.9],\n",
    "    'SO2': [9.2],\n",
    "    'CO': [1.72],\n",
    "    'Temperature': [29.8],\n",
    "    'Humidity': [59.1],\n",
    "    'Industrial Proximity': [6.3]\n",
    "})\n",
    "\n",
    "# Предсказание качества воздуха\n",
    "prediction = loaded_model.predict(new_data)\n",
    "print(\"Прогнозируемое качество воздуха (Air Quality):\", prediction[0])\n",
    "\n",
    "# Словарь для обратного преобразования\n",
    "reverse_mapping = {1: 'Good', 2: 'Moderate', 3: 'Poor', 4: 'Hazardous'}\n",
    "\n",
    "# Округление до ближайшей категории\n",
    "predicted_category = round(prediction[0])\n",
    "predicted_label = reverse_mapping[predicted_category]\n",
    "\n",
    "print(f\"Прогнозируемое качество воздуха: {predicted_label}\")\n",
    "\n"
   ]
  },
  {
   "cell_type": "code",
   "execution_count": 22,
   "id": "7ff1647c-d4fb-4124-911c-4bd28a09e028",
   "metadata": {},
   "outputs": [
    {
     "data": {
      "text/plain": [
       "['xgb_regressor.pkl']"
      ]
     },
     "execution_count": 22,
     "metadata": {},
     "output_type": "execute_result"
    }
   ],
   "source": [
    "# 4.9 Сохранение модели в файл\n",
    "import joblib\n",
    "joblib.dump(best_model, \"xgb_regressor.pkl\")\n"
   ]
  },
  {
   "cell_type": "code",
   "execution_count": 23,
   "id": "2943d1cc-b409-40be-abc8-e7ac076f413a",
   "metadata": {},
   "outputs": [
    {
     "name": "stdout",
     "output_type": "stream",
     "text": [
      "Введите данные для прогноза качества воздуха:\n"
     ]
    },
    {
     "name": "stdin",
     "output_type": "stream",
     "text": [
      "Введите значение PM10:  6.3\n",
      "Введите значение NO2:  23.2\n",
      "Введите значение SO2:  5.6\n",
      "Введите значение CO:  2.2\n",
      "Введите значение температуры:  27\n",
      "Введите значение влажности:  72.3\n",
      "Введите значение близости к промышленным зонам:  7\n"
     ]
    },
    {
     "name": "stdout",
     "output_type": "stream",
     "text": [
      "\n",
      "Прогнозируемое качество воздуха (Air Quality): 2.622534\n",
      "Прогнозируемое качество воздуха: Poor\n"
     ]
    }
   ],
   "source": [
    "#4.10 Прогноз качества воздуха на основе пользовательских данных\n",
    "import pandas as pd\n",
    "import joblib\n",
    "\n",
    "# Загрузка обученной модели\n",
    "loaded_model = joblib.load(\"xgb_regressor.pkl\")\n",
    "\n",
    "# Словарь для обратного преобразования\n",
    "reverse_mapping = {1: 'Good', 2: 'Moderate', 3: 'Poor', 4: 'Hazardous'}\n",
    "\n",
    "# Получение данных от пользователя\n",
    "print(\"Введите данные для прогноза качества воздуха:\")\n",
    "\n",
    "try:\n",
    "    pm10 = float(input(\"Введите значение PM10: \"))\n",
    "    no2 = float(input(\"Введите значение NO2: \"))\n",
    "    so2 = float(input(\"Введите значение SO2: \"))\n",
    "    co = float(input(\"Введите значение CO: \"))\n",
    "    temperature = float(input(\"Введите значение температуры: \"))\n",
    "    humidity = float(input(\"Введите значение влажности: \"))\n",
    "    industrial_proximity = float(input(\"Введите значение близости к промышленным зонам: \"))\n",
    "\n",
    "    # Создание DataFrame с пользовательскими данными\n",
    "    user_data = pd.DataFrame({\n",
    "        'PM10': [pm10],\n",
    "        'NO2': [no2],\n",
    "        'SO2': [so2],\n",
    "        'CO': [co],\n",
    "        'Temperature': [temperature],\n",
    "        'Humidity': [humidity],\n",
    "        'Industrial Proximity': [industrial_proximity]\n",
    "    })\n",
    "\n",
    "    # Прогноз качества воздуха\n",
    "    prediction = loaded_model.predict(user_data)\n",
    "    print(\"\\nПрогнозируемое качество воздуха (Air Quality):\", prediction[0])\n",
    "\n",
    "    # Округление до ближайшей категории\n",
    "    predicted_category = round(prediction[0])\n",
    "    predicted_label = reverse_mapping[predicted_category]\n",
    "\n",
    "    print(f\"Прогнозируемое качество воздуха: {predicted_label}\")\n",
    "\n",
    "except ValueError as e:\n",
    "    print(\"Ошибка: Введите корректные числовые значения.\")\n"
   ]
  },
  {
   "cell_type": "code",
   "execution_count": null,
   "id": "822e0d49-029d-4eea-b1ba-a74ce0562fbe",
   "metadata": {},
   "outputs": [],
   "source": []
  }
 ],
 "metadata": {
  "kernelspec": {
   "display_name": "Python 3 (ipykernel)",
   "language": "python",
   "name": "python3"
  },
  "language_info": {
   "codemirror_mode": {
    "name": "ipython",
    "version": 3
   },
   "file_extension": ".py",
   "mimetype": "text/x-python",
   "name": "python",
   "nbconvert_exporter": "python",
   "pygments_lexer": "ipython3",
   "version": "3.12.3"
  }
 },
 "nbformat": 4,
 "nbformat_minor": 5
}
